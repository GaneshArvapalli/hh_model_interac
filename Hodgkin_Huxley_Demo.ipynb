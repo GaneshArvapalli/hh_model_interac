{
 "cells": [
  {
   "cell_type": "code",
   "execution_count": 1,
   "metadata": {},
   "outputs": [],
   "source": [
    "#!/usr/bin/env/python3\n",
    "\n",
    "# Ganesh Arvapalli\n",
    "\n",
    "import numpy as np\n",
    "import matplotlib.pyplot as plt"
   ]
  },
  {
   "cell_type": "code",
   "execution_count": 2,
   "metadata": {},
   "outputs": [],
   "source": [
    "# Declare necessary constants\n",
    "\n",
    "gmax_Na = 120\n",
    "gmax_K = 36\n",
    "gmax_L = 0.3\n",
    "eNa_hh = 50    # -RT/nF ln(Q)\n",
    "eK_hh = -77\n",
    "eL_hh = -54.4\n",
    "C = 1"
   ]
  },
  {
   "cell_type": "code",
   "execution_count": 3,
   "metadata": {},
   "outputs": [],
   "source": [
    "# Declare relevant functions\n",
    "\n",
    "alpha_n = lambda V: 0.01 * ((V + 55) / (1 - np.exp(-(V + 55) / 10)))\n",
    "beta_n = lambda V: 0.125 * np.exp(-(V + 65)/80)\n",
    "alpha_m = lambda V: 0.1 * ((V + 40) / (1 - np.exp(-(V+40) / 10)))\n",
    "beta_m = lambda V: 4 * np.exp(-(V + 65) / 18)\n",
    "alpha_h = lambda V: 0.07 * np.exp(-(V + 65) / 20)\n",
    "beta_h = lambda V: 1.0 / (1 + np.exp(-(V + 35) / 10))"
   ]
  },
  {
   "cell_type": "code",
   "execution_count": 4,
   "metadata": {},
   "outputs": [],
   "source": [
    "# Declare input current as list of numbers spaced at \"dt\" apart\n",
    "\n",
    "duration = 30\n",
    "dt = 0.001\n",
    "\n",
    "I_in = np.zeros(1500)\n",
    "I_in = np.append(I_in, -1 * np.ones(500))\n",
    "I_in = np.append(I_in, np.zeros(int(duration/dt) - len(I_in)))"
   ]
  },
  {
   "cell_type": "code",
   "execution_count": 5,
   "metadata": {},
   "outputs": [
    {
     "name": "stdout",
     "output_type": "stream",
     "text": [
      "n_init 0.24458654944007166 m_init 0.028905534475191907 h_init 0.7540796658225246\n"
     ]
    }
   ],
   "source": [
    "# Initial values\n",
    "\n",
    "V_init = -70\n",
    "a_n, a_m, a_h = alpha_n(V_init), alpha_m(V_init), alpha_h(V_init)\n",
    "b_n, b_m, b_h = beta_n(V_init), beta_m(V_init), beta_h(V_init)\n",
    "n = a_n / (a_n + b_n)\n",
    "m = a_m / (a_m + b_m)\n",
    "h = a_h / (a_h + b_h)\n",
    "print(\"n_init\", n, \"m_init\", m, \"h_init\", h)"
   ]
  },
  {
   "cell_type": "code",
   "execution_count": 6,
   "metadata": {},
   "outputs": [],
   "source": [
    "V = np.zeros(np.shape(I_in))\n",
    "V[0] = V_init\n",
    "\n",
    "for i in range(len(I_in) - 1):  \n",
    "    dn = dt * (alpha_n(V[i]) / (alpha_n(V[i]) + beta_n(V[i])) - n) * (alpha_n(V[i]) + beta_n(V[i]))\n",
    "    dm = dt * (alpha_m(V[i]) / (alpha_m(V[i]) + beta_m(V[i])) - m) * (alpha_m(V[i]) + beta_m(V[i]))\n",
    "    dh = dt * (alpha_h(V[i]) / (alpha_h(V[i]) + beta_h(V[i])) - h) * (alpha_h(V[i]) + beta_h(V[i]))\n",
    "\n",
    "    n, m, h = n + dn, m + dm, h + dh\n",
    "    \n",
    "    I_Na = gmax_Na * (m**3) * h * (V[i] - eNa_hh)\n",
    "    I_K = gmax_K * (n**4) * (V[i] - eK_hh)\n",
    "    I_L = gmax_L * (V[i] - eL_hh)\n",
    "    I_c = I_in[i] - I_Na - I_K - I_L\n",
    "    \n",
    "    dV = (1 / C) * I_c * dt\n",
    "    V[i+1] = V[i] + dV"
   ]
  },
  {
   "cell_type": "code",
   "execution_count": 10,
   "metadata": {},
   "outputs": [
    {
     "data": {
      "image/png": "[encoded data removed]",
      "text/plain": [
       "<Figure size 432x288 with 1 Axes>"
      ]
     },
     "metadata": {
      "needs_background": "light"
     },
     "output_type": "display_data"
    }
   ],
   "source": [
    "%matplotlib inline\n",
    "fig, ax = plt.figure(), plt.axes()\n",
    "num_ticks = 7\n",
    "ax.plot(V);\n",
    "ax.set_title(\"Hodgkin-Huxley Simulation\");\n",
    "ax.set_xlabel(\"Time (in ms)\");\n",
    "ax.set_ylabel(\"Voltage (in mV)\");\n",
    "plt.xticks(np.linspace(0,duration/dt,num_ticks), np.linspace(0, duration/dt,num_ticks)*dt);\n",
    "plt.ylim((-80,60));"
   ]
  },
  {
   "cell_type": "code",
   "execution_count": 8,
   "metadata": {},
   "outputs": [
    {
     "data": {
      "text/plain": [
       "array([-70.        , -69.99595959, -69.99192092, ..., -64.96648516,\n",
       "       -64.96657486, -64.96666452])"
      ]
     },
     "execution_count": 8,
     "metadata": {},
     "output_type": "execute_result"
    }
   ],
   "source": [
    "V"
   ]
  }
 ],
 "metadata": {
  "kernelspec": {
   "display_name": "Python 3",
   "language": "python",
   "name": "python3"
  },
  "language_info": {
   "codemirror_mode": {
    "name": "ipython",
    "version": 3
   },
   "file_extension": ".py",
   "mimetype": "text/x-python",
   "name": "python",
   "nbconvert_exporter": "python",
   "pygments_lexer": "ipython3",
   "version": "3.7.3"
  }
 },
 "nbformat": 4,
 "nbformat_minor": 2
}
