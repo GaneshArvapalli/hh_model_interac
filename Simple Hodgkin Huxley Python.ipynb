{
 "cells": [
  {
   "cell_type": "code",
   "execution_count": 1,
   "metadata": {},
   "outputs": [],
   "source": [
    "#!/usr/bin/env/python3\n",
    "\n",
    "# Ganesh Arvapalli\n",
    "\n",
    "import numpy as np\n",
    "import matplotlib.pyplot as plt"
   ]
  },
  {
   "cell_type": "code",
   "execution_count": 2,
   "metadata": {},
   "outputs": [],
   "source": [
    "# Declare necessary constants\n",
    "\n",
    "# Conductances\n",
    "gmax_Na = 120    # in mmho/cm^2\n",
    "gmax_K = 36\n",
    "gmax_L = 0.3\n",
    "\n",
    "# Capacitance\n",
    "C = 1     # In uF/cm^2\n",
    "\n",
    "# Potentials\n",
    "Vna = 115    # Ena - Er, E = -RT/nF ln(Q) in mV\n",
    "Vk = -12\n",
    "Vl = 10.613"
   ]
  },
  {
   "cell_type": "code",
   "execution_count": 4,
   "metadata": {},
   "outputs": [],
   "source": [
    "# Declare relevant functions\n",
    "# Change V's to -V's to get nice AP shape (peaking upwards instead of down)\n",
    "alpha_n = lambda V: 0.01 * ((-V + 10) / (np.exp((-V + 10) / 10) - 1))\n",
    "beta_n = lambda V: 0.125 * np.exp(-V/80)\n",
    "alpha_m = lambda V: 0.1 * ((-V + 25) / (np.exp((-V + 25) / 10) - 1))\n",
    "beta_m = lambda V: 4 * np.exp(-V / 18)\n",
    "alpha_h = lambda V: 0.07 * np.exp(-V / 20)\n",
    "beta_h = lambda V: 1.0 / (1 + np.exp((-V + 30) / 10))"
   ]
  },
  {
   "cell_type": "code",
   "execution_count": 122,
   "metadata": {},
   "outputs": [],
   "source": [
    "# Declare input current as list of numbers spaced at \"dt\" apart\n",
    "\n",
    "duration = 20   # in ms\n",
    "dt = 0.01    # time step\n",
    "\n",
    "I_in = np.zeros(int(1/dt))     # Wait 1 ms\n",
    "I_in = np.append(I_in, 150 * np.ones(50))   # In uA/cm^2\n",
    "I_in = np.append(I_in, np.zeros(int(duration/dt) - len(I_in)))     # Turn off current"
   ]
  },
  {
   "cell_type": "code",
   "execution_count": 123,
   "metadata": {},
   "outputs": [
    {
     "data": {
      "image/png": "[encoded data removed]",
      "text/plain": [
       "<Figure size 432x288 with 1 Axes>"
      ]
     },
     "metadata": {
      "needs_background": "light"
     },
     "output_type": "display_data"
    }
   ],
   "source": [
    "# Plot input current\n",
    "num_ticks = 5\n",
    "fig, ax = plt.figure(), plt.axes()\n",
    "ax.plot(I_in);\n",
    "ax.set_title(\"Input Current\");\n",
    "ax.set_xlabel(\"Time (in ms)\");\n",
    "ax.set_ylabel(\"Current (in uA/cm^2)\");\n",
    "plt.xticks(np.linspace(0,duration/dt,num_ticks), \n",
    "           np.linspace(0, duration/dt,num_ticks) * dt);"
   ]
  },
  {
   "cell_type": "code",
   "execution_count": 124,
   "metadata": {},
   "outputs": [
    {
     "name": "stdout",
     "output_type": "stream",
     "text": [
      "n_init 0.318 \n",
      "m_init 0.053 \n",
      "h_init 0.596\n"
     ]
    }
   ],
   "source": [
    "# Initial values\n",
    "\n",
    "V_init = 0\n",
    "a_n, a_m, a_h = alpha_n(V_init), alpha_m(V_init), alpha_h(V_init)\n",
    "b_n, b_m, b_h = beta_n(V_init), beta_m(V_init), beta_h(V_init)\n",
    "n = a_n / (a_n + b_n)\n",
    "m = a_m / (a_m + b_m)\n",
    "h = a_h / (a_h + b_h)\n",
    "print(\"n_init\", np.round(n, 3), \"\\nm_init\", \n",
    "      np.round(m, 3), \"\\nh_init\", np.round(h, 3))"
   ]
  },
  {
   "cell_type": "code",
   "execution_count": 125,
   "metadata": {},
   "outputs": [],
   "source": [
    "V = np.zeros(np.shape(I_in))\n",
    "V[0] = V_init\n",
    "\n",
    "for i in range(len(I_in) - 1):\n",
    "    dn = dt * (alpha_n(V[i]) * (1 - n) - beta_n(V[i]) * n)\n",
    "    dm = dt * (alpha_m(V[i]) * (1 - m) - beta_m(V[i]) * m)\n",
    "    dh = dt * (alpha_h(V[i]) * (1 - h) - beta_h(V[i]) * h)\n",
    "    \n",
    "    n, m, h = n + dn, m + dm, h + dh\n",
    "    \n",
    "    I_Na = gmax_Na * (m**3) * h * (V[i] - Vna)\n",
    "    I_K = gmax_K * (n**4) * (V[i] - Vk)\n",
    "    I_L = gmax_L * (V[i] - Vl)\n",
    "    I_c = I_in[i] - I_Na - I_K - I_L\n",
    "    \n",
    "    dV = (1 / C) * I_c * dt\n",
    "    V[i+1] = V[i] + dV"
   ]
  },
  {
   "cell_type": "code",
   "execution_count": 126,
   "metadata": {},
   "outputs": [
    {
     "data": {
      "image/png": "[encoded data removed]",
      "text/plain": [
       "<Figure size 432x288 with 1 Axes>"
      ]
     },
     "metadata": {
      "needs_background": "light"
     },
     "output_type": "display_data"
    }
   ],
   "source": [
    "fig, ax = plt.figure(), plt.axes()\n",
    "ax.plot(V);\n",
    "ax.set_title(\"Hodgkin-Huxley Simulation\");\n",
    "ax.set_xlabel(\"Time (in ms)\");\n",
    "ax.set_ylabel(\"Voltage (in mV)\");\n",
    "plt.xticks(np.linspace(0,duration/dt,num_ticks), \n",
    "           np.linspace(0, duration/dt,num_ticks) * dt);\n",
    "plt.ylim((-25,125));"
   ]
  }
 ],
 "metadata": {
  "kernelspec": {
   "display_name": "Python 3",
   "language": "python",
   "name": "python3"
  },
  "language_info": {
   "codemirror_mode": {
    "name": "ipython",
    "version": 3
   },
   "file_extension": ".py",
   "mimetype": "text/x-python",
   "name": "python",
   "nbconvert_exporter": "python",
   "pygments_lexer": "ipython3",
   "version": "3.7.3"
  }
 },
 "nbformat": 4,
 "nbformat_minor": 2
}
